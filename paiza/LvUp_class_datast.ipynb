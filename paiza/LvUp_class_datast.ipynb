{
 "cells": [
  {
   "cell_type": "code",
   "execution_count": null,
   "metadata": {},
   "outputs": [],
   "source": []
  },
  {
   "cell_type": "markdown",
   "metadata": {},
   "source": []
  },
  {
   "cell_type": "markdown",
   "metadata": {},
   "source": []
  },
  {
   "cell_type": "markdown",
   "metadata": {},
   "source": []
  },
  {
   "cell_type": "markdown",
   "metadata": {},
   "source": [
    "# 2024/06/10\n"
   ]
  },
  {
   "cell_type": "markdown",
   "metadata": {},
   "source": [
    "## 問題"
   ]
  },
  {
   "cell_type": "markdown",
   "metadata": {},
   "source": [
    "\n",
    "\n",
    "クラスの学級委員である paiza 君は、クラスのみんなに次のような形式でアカウントの情報を送ってもらうよう依頼しました。\n",
    "\n",
    "名前 年齢 誕生日 出身地\n",
    "\n",
    "送ってもらったデータを使いやすいように整理したいと思った paiza 君はクラス全員分のデータを次の形式でまとめることにしました。\n",
    "```\n",
    "User{\n",
    "nickname : 名前\n",
    "old : 年齢\n",
    "birth : 誕生日\n",
    "state : 出身地\n",
    "}\n",
    "```\n",
    "\n",
    "クラスメートの情報が与えられるので、それらを以上の形式でまとめたものを出力してください。\n",
    "入力される値\n",
    "```\n",
    "N\n",
    "n_1 o_1 b_1 s_1\n",
    "...\n",
    "n_N o_N b_N s_N\n",
    "```\n",
    "\n",
    "\n",
    "・ 1 行目では、paiza君のクラスの人数 N が与えられます。\n",
    "・ 続く N 行のうち i 行目 (1 ≦ i ≦ N) では、 i 番の生徒の名前・年齢・誕生日・出身地を表す整数・文字列 n_i ,o_i ,b_i , s_i が順に半角スペース区切りで与えられます。\n",
    "\n",
    "入力値最終行の末尾に改行が１つ入ります。\n",
    "文字列は標準入力から渡されます。 標準入力からの値取得方法はこちらをご確認ください\n",
    "期待する出力\n",
    "```\n",
    "User{\n",
    "nickname : n_1\n",
    "old : o_1\n",
    "birth : b_1\n",
    "state : s_1\n",
    "}\n",
    "User{\n",
    "nickname : n_2\n",
    "old : o_2\n",
    "birth : b_2\n",
    "state : s_2\n",
    "}\n",
    "...\n",
    "User{\n",
    "nickname : n_N\n",
    "old : o_N\n",
    "birth : b_N\n",
    "state : s_N\n",
    "}\n",
    "```\n",
    "\n",
    "番号が若い順に各クラスメートの情報を以上の形式でを出力してください。"
   ]
  },
  {
   "cell_type": "code",
   "execution_count": 12,
   "metadata": {},
   "outputs": [],
   "source": [
    "class AutoInput:\n",
    "    def __init__(self, inputs):\n",
    "        self.inputs = iter(inputs)\n",
    "\n",
    "    def input(self, prompt=None):\n",
    "        return next(self.inputs)\n",
    "\n",
    "# あらかじめ定義した入力\n",
    "inputs = [\n",
    "    \"3\",\n",
    "    \"nickname1 20 1990-01-01 state1\",\n",
    "    \"nickname2 30 1980-01-01 state2\",\n",
    "    \"nickname3 40 1970-01-01 state3\",\n",
    "]\n",
    "\n"
   ]
  },
  {
   "cell_type": "code",
   "execution_count": 25,
   "metadata": {},
   "outputs": [
    {
     "name": "stdout",
     "output_type": "stream",
     "text": [
      "nickname1 20 1990-01-01 state1\n",
      "nickname2 30 1980-01-01 state2\n",
      "nickname3 40 1970-01-01 state3\n"
     ]
    }
   ],
   "source": [
    "class AutoInput:\n",
    "    def __init__(self, inputs):\n",
    "        self.inputs = iter(inputs)\n",
    "\n",
    "    def input(self, prompt=None):\n",
    "        return next(self.inputs)\n",
    "\n",
    "# あらかじめ定義した入力\n",
    "inputs = [\n",
    "    \"3\",\n",
    "    \"nickname1 20 1990-01-01 state1\",\n",
    "    \"nickname2 30 1980-01-01 state2\",\n",
    "    \"nickname3 40 1970-01-01 state3\",\n",
    "]\n",
    "\n",
    "class User:\n",
    "    def __init__(self, nickname, old, birth, state):\n",
    "        self.nickname = nickname\n",
    "        self.old = old\n",
    "        self.birth = birth\n",
    "        self.state = state\n",
    "\n",
    "def create_user(nickname, old, birth, state):\n",
    "    user = User(nickname, old, birth, state)\n",
    "    return user\n",
    "\n",
    "auto_input = AutoInput(inputs)\n",
    "# print(auto_input.input().strip().split())\n",
    "N = int(auto_input.input().strip())\n",
    "\n",
    "\n",
    "for _ in range(N):\n",
    "    nickname, old, birth, state = auto_input.input().strip().split()\n",
    "    user = create_user(nickname, old, birth, state)\n",
    "    print(user.nickname, user.old, user.birth, user.state)\n",
    "    \n"
   ]
  },
  {
   "cell_type": "markdown",
   "metadata": {},
   "source": [
    "### できなかったとこ"
   ]
  },
  {
   "cell_type": "code",
   "execution_count": null,
   "metadata": {},
   "outputs": [],
   "source": [
    "class User:\n",
    "    def __init__(self, nickname, old, birth, state):\n",
    "        self.nickname = nickname\n",
    "        self.old = old\n",
    "        self.birth = birth\n",
    "        self.state = state\n",
    "        \n",
    "    def __str__(self):\n",
    "        return f\"{self.nickname} {self.old} {self.birth} {self.state}\"\n",
    "\n",
    "def create_user(nickname, old, birth, state):\n",
    "    user = User(nickname, old, birth, state)\n",
    "    return user\n",
    "\n",
    "N = int(input().split())\n",
    "\n",
    "for _ in range(N):\n",
    "    nickname, old, birth, state = input().split()\n",
    "    user = create_user(nickname, old, birth, state)\n",
    "    # print(user.nickname, user.old, user.birth, user.state)\n",
    "    print(user)\n",
    "    \n",
    "def create_users_from_input():\n",
    "    N = int(input().strip())\n",
    "    users = []\n",
    "    for _ in range(N):\n",
    "        nickname, old, birth, state = input().strip().split()\n",
    "        user = create_user(nickname, int(old), birth, state)\n",
    "        users.append(user)\n",
    "    return users\n",
    "\n",
    "\n"
   ]
  },
  {
   "cell_type": "code",
   "execution_count": 5,
   "metadata": {},
   "outputs": [
    {
     "ename": "ValueError",
     "evalue": "invalid literal for int() with base 10: ''",
     "output_type": "error",
     "traceback": [
      "\u001b[0;31m---------------------------------------------------------------------------\u001b[0m",
      "\u001b[0;31mValueError\u001b[0m                                Traceback (most recent call last)",
      "Cell \u001b[0;32mIn[5], line 22\u001b[0m\n\u001b[1;32m     19\u001b[0m     user \u001b[38;5;241m=\u001b[39m User(nickname, old, birth, state)\n\u001b[1;32m     20\u001b[0m     \u001b[38;5;28;01mreturn\u001b[39;00m user\n\u001b[0;32m---> 22\u001b[0m N \u001b[38;5;241m=\u001b[39m \u001b[38;5;28;43mint\u001b[39;49m\u001b[43m(\u001b[49m\u001b[38;5;28;43minput\u001b[39;49m\u001b[43m(\u001b[49m\u001b[43m)\u001b[49m\u001b[38;5;241;43m.\u001b[39;49m\u001b[43mstrip\u001b[49m\u001b[43m(\u001b[49m\u001b[43m)\u001b[49m\u001b[43m)\u001b[49m\n\u001b[1;32m     24\u001b[0m \u001b[38;5;28;01mfor\u001b[39;00m _ \u001b[38;5;129;01min\u001b[39;00m \u001b[38;5;28mrange\u001b[39m(N):\n\u001b[1;32m     25\u001b[0m     nickname, old, birth, state \u001b[38;5;241m=\u001b[39m \u001b[38;5;28minput\u001b[39m()\u001b[38;5;241m.\u001b[39msplit()\n",
      "\u001b[0;31mValueError\u001b[0m: invalid literal for int() with base 10: ''"
     ]
    }
   ],
   "source": [
    "class User:\n",
    "    def __init__(self, nickname, old, birth, state):\n",
    "        self.nickname = nickname\n",
    "        self.old = old\n",
    "        self.birth = birth\n",
    "        self.state = state\n",
    "        \n",
    "    def __str__(self):\n",
    "        return (\n",
    "            f\"User{{\\n\"\n",
    "            f\"nickname : {self.nickname}\\n\"\n",
    "            f\"old : {self.old}\\n\"\n",
    "            f\"birth : {self.birth}\\n\"\n",
    "            f\"state : {self.state}\\n\"\n",
    "            f\"}}\"\n",
    "        )\n",
    "\n",
    "def create_user(nickname, old, birth, state):\n",
    "    user = User(nickname, old, birth, state)\n",
    "    return user\n",
    "\n",
    "N = int(input().strip())\n",
    "\n",
    "for _ in range(N):\n",
    "    nickname, old, birth, state = input().split()\n",
    "    user = create_user(nickname, old, birth, state)\n",
    "    # print(user.nickname, user.old, user.birth, user.state)\n",
    "    print(user)\n",
    "    "
   ]
  },
  {
   "cell_type": "code",
   "execution_count": null,
   "metadata": {},
   "outputs": [],
   "source": [
    "class AutoInput:\n",
    "    def __init__(self, inputs):\n",
    "        self.inputs = iter(inputs)\n",
    "\n",
    "    def input(self, prompt=None):\n",
    "        return next(self.inputs)\n",
    "\n",
    "# あらかじめ定義した入力\n",
    "inputs = [\n",
    "    \"3\",\n",
    "    \"nickname1 20 1990-01-01 state1\",\n",
    "    \"nickname2 30 1980-01-01 state2\",\n",
    "    \"nickname3 40 1970-01-01 state3\",\n",
    "]\n",
    "\n",
    "auto_input = AutoInput(inputs)\n",
    "N = int(auto_input.input().strip())"
   ]
  }
 ],
 "metadata": {
  "kernelspec": {
   "display_name": "base",
   "language": "python",
   "name": "python3"
  },
  "language_info": {
   "codemirror_mode": {
    "name": "ipython",
    "version": 3
   },
   "file_extension": ".py",
   "mimetype": "text/x-python",
   "name": "python",
   "nbconvert_exporter": "python",
   "pygments_lexer": "ipython3",
   "version": "3.9.15"
  }
 },
 "nbformat": 4,
 "nbformat_minor": 2
}
